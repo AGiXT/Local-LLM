{
 "cells": [
  {
   "cell_type": "markdown",
   "id": "8fd0667c-90fc-47e4-94bf-545d529c2b86",
   "metadata": {},
   "source": [
    "# Fast Inference\n",
    "\n",
    "## Install Requirements\n"
   ]
  },
  {
   "cell_type": "code",
   "execution_count": null,
   "id": "3300dc45-8915-476a-bc82-ea2e40ef0786",
   "metadata": {},
   "outputs": [],
   "source": [
    "%pip install bitsandbytes==0.41.0\n",
    "%pip install transformers @ git+https://github.com/huggingface/transformers.git\n",
    "%pip install peft @ git+https://github.com/huggingface/peft.git@v0.3.0\n",
    "%pip install accelerate @ git+https://github.com/huggingface/accelerate.git@v0.20.3\n",
    "%pip install einops==0.6.1\n",
    "%pip install evaluate==0.4.0\n",
    "%pip install scikit-learn==1.2.2\n",
    "%pip install sentencepiece==0.1.99\n",
    "%pip install wandb==0.15.3"
   ]
  },
  {
   "cell_type": "markdown",
   "id": "76804d19-8a46-4550-91f2-61f671e312ff",
   "metadata": {},
   "source": [
    "## Generate Text\n"
   ]
  },
  {
   "cell_type": "code",
   "execution_count": null,
   "id": "c81b9ff6-c627-4a8a-9161-7e177dbc4930",
   "metadata": {},
   "outputs": [],
   "source": [
    "from peft import PeftModel\n",
    "from transformers import GenerationConfig, LlamaForCausalLM, LlamaTokenizer\n",
    "import torch\n",
    "\n",
    "\n",
    "def generate_text(prompt: str) -> str:\n",
    "    # Create tokenizer and model\n",
    "    base_model = \"timdettmers/guanaco-33b-merged\"\n",
    "    tokenizer = LlamaTokenizer.from_pretrained(base_model)\n",
    "    # base model\n",
    "    model = LlamaForCausalLM.from_pretrained(\n",
    "        base_model,\n",
    "        torch_dtype=torch.float16,\n",
    "        device_map=\"auto\",\n",
    "    )\n",
    "    # LORA PEFT adapters\n",
    "    adapter_model = \"lyogavin/Anima33B\"\n",
    "    model = PeftModel.from_pretrained(\n",
    "        model=model,\n",
    "        adapter_name=adapter_model,\n",
    "        # torch_dtype=torch.float16,\n",
    "    )\n",
    "    model.eval()\n",
    "    inputs = tokenizer(prompt, return_tensors=\"pt\")\n",
    "    # Generate\n",
    "    generate_ids = model.generate(**inputs, max_new_tokens=30)\n",
    "    text = tokenizer.batch_decode(\n",
    "        generate_ids, skip_special_tokens=True, clean_up_tokenization_spaces=False\n",
    "    )[0]\n",
    "    return text\n",
    "\n",
    "\n",
    "text = generate_text(\"The quick brown fox jumps over the lazy dog\")\n",
    "print(text)"
   ]
  }
 ],
 "metadata": {
  "kernelspec": {
   "display_name": "Python 3",
   "language": "python",
   "name": "python3"
  },
  "language_info": {
   "codemirror_mode": {
    "name": "ipython",
    "version": 3
   },
   "file_extension": ".py",
   "mimetype": "text/x-python",
   "name": "python",
   "nbconvert_exporter": "python",
   "pygments_lexer": "ipython3",
   "version": "3.10.12"
  }
 },
 "nbformat": 4,
 "nbformat_minor": 5
}
