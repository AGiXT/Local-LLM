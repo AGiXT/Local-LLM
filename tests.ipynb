{
 "cells": [
  {
   "cell_type": "markdown",
   "metadata": {},
   "source": [
    "## Completions\n",
    "\n",
    "[OpenAI API Reference](https://platform.openai.com/docs/api-reference/completions)\n"
   ]
  },
  {
   "cell_type": "code",
   "execution_count": null,
   "metadata": {},
   "outputs": [],
   "source": [
    "# Completion\n",
    "import openai\n",
    "\n",
    "openai.api_base = \"http://localhost:8091/v1\"\n",
    "openai.api_key = \"\"\n",
    "prompt = \"Tell me something funny about llamas.\"\n",
    "\n",
    "response = openai.Completion.create(\n",
    "    model=\"llamacpp\",\n",
    "    prompt=prompt,\n",
    "    temperature=1.31,\n",
    "    max_tokens=8192,\n",
    "    top_p=1.0,\n",
    "    frequency_penalty=0,\n",
    "    presence_penalty=0,\n",
    "    stream=False,\n",
    ")\n",
    "message = response.choices[0].text.strip()\n",
    "print(message)\n"
   ]
  },
  {
   "cell_type": "markdown",
   "metadata": {},
   "source": [
    "## Chat Completion\n",
    "\n",
    "[OpenAI API Reference](https://platform.openai.com/docs/api-reference/chat)\n"
   ]
  },
  {
   "cell_type": "code",
   "execution_count": null,
   "metadata": {},
   "outputs": [],
   "source": [
    "import openai\n",
    "\n",
    "openai.api_base = \"http://localhost:8091/v1\"\n",
    "openai.api_key = \"\"\n",
    "prompt = \"Tell me something funny about llamas.\"\n",
    "messages = [{\"role\": \"system\", \"content\": prompt}]\n",
    "\n",
    "response = openai.ChatCompletion.create(\n",
    "    model=\"Local-LLM\",\n",
    "    messages=messages,\n",
    "    temperature=1.31,\n",
    "    max_tokens=8192,\n",
    "    top_p=1.0,\n",
    "    n=1,\n",
    "    stream=False,\n",
    ")\n",
    "message = response.choices[0].message.content.strip()\n",
    "print(message)"
   ]
  },
  {
   "cell_type": "markdown",
   "metadata": {},
   "source": [
    "## Embeddings\n",
    "\n",
    "[OpenAI API Reference](https://platform.openai.com/docs/api-reference/embeddings)\n",
    "\n",
    "The embeddings endpoint it currently uses is an ONNX embedder with 256 max tokens.\n"
   ]
  },
  {
   "cell_type": "code",
   "execution_count": null,
   "metadata": {},
   "outputs": [],
   "source": [
    "import openai\n",
    "\n",
    "openai.api_base = \"http://localhost:8091/v1\"\n",
    "openai.api_key = \"\"\n",
    "prompt = \"Tell me something funny about llamas.\"\n",
    "\n",
    "response = openai.Embedding.create(\n",
    "    input=prompt,\n",
    "    engine=\"Local-LLM\",\n",
    ")\n",
    "embedding = response.embedding\n",
    "print(embedding)\n"
   ]
  }
 ],
 "metadata": {
  "kernelspec": {
   "display_name": "Python 3",
   "language": "python",
   "name": "python3"
  },
  "language_info": {
   "codemirror_mode": {
    "name": "ipython",
    "version": 3
   },
   "file_extension": ".py",
   "mimetype": "text/x-python",
   "name": "python",
   "nbconvert_exporter": "python",
   "pygments_lexer": "ipython3",
   "version": "3.10.12"
  },
  "orig_nbformat": 4
 },
 "nbformat": 4,
 "nbformat_minor": 2
}
